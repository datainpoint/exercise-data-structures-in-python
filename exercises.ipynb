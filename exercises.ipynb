{
 "cells": [
  {
   "cell_type": "markdown",
   "metadata": {
    "deletable": false,
    "editable": false
   },
   "source": [
    "## Programming with Python\n",
    "\n",
    "> Exercise: Data Structures in Python\n",
    "\n",
    "Kuo, Yao-Jen <yaojenkuo@datainpoint.com> from [DATAINPOINT](https://www.datainpoint.com)"
   ]
  },
  {
   "cell_type": "code",
   "execution_count": 1,
   "metadata": {
    "deletable": false,
    "editable": false
   },
   "outputs": [],
   "source": [
    "cast = ['Robert Downey Jr.',\n",
    "        'Chris Hemsworth',\n",
    "        'Mark Ruffalo',\n",
    "        'Chris Evans',\n",
    "        'Scarlett Johansson',\n",
    "        'Don Cheadle',\n",
    "        'Benedict Cumberbatch',\n",
    "        'Tom Holland',\n",
    "        'Chadwick Boseman',\n",
    "        'Zoe Saldana',\n",
    "        'Karen Gillan',\n",
    "        'Tom Hiddleston',\n",
    "        'Paul Bettany',\n",
    "        'Elizabeth Olsen',\n",
    "        'Anthony Mackie']\n",
    "the_avengers = {\n",
    "    \"release_dates\": [\n",
    "        {'USA': '11 April 2012'},\n",
    "        {'Taiwan': '25 April 2012'}\n",
    "    ],\n",
    "    \"genre\": [\"Action\", \"Adventure\", \"Sci-Fi\"],\n",
    "    \"avengers\": [\n",
    "        {\"Iron Man\": \"Tony Stark\"},\n",
    "        {\"Captain America\": \"Steve Rogers\"},\n",
    "        {\"Hulk\": \"Bruce Banner\"},\n",
    "        {\"Thor\": \"Thor\"},\n",
    "        {\"Black Widow\": \"Natasha Romanoff\"},\n",
    "        {\"Hawkeye\": \"Clint Barton\"}\n",
    "    ]\n",
    "}"
   ]
  },
  {
   "cell_type": "markdown",
   "metadata": {},
   "source": [
    "## Define a function named `select_sw` that is able to extract Elizabeth Olsen (The Scarlet Witch) from a given list `cast`.\n",
    "\n",
    "- Expected inputs: a list `cast`\n",
    "- Expected outputs: a string"
   ]
  },
  {
   "cell_type": "code",
   "execution_count": 2,
   "metadata": {},
   "outputs": [],
   "source": [
    "def select_sw(cast):\n",
    "    \"\"\"\n",
    "    >>> select_sw(cast)\n",
    "    'Elizabeth Olsen'\n",
    "    \"\"\"\n",
    "    ### BEGIN SOLUTION\n",
    "    \n",
    "    ### END SOLUTION"
   ]
  },
  {
   "cell_type": "markdown",
   "metadata": {},
   "source": [
    "## Define a function named `first_five` that is able to slice the first five actors/actresses from a given list `cast`.\n",
    "\n",
    "- Expected inputs: a list `cast`\n",
    "- Expected outputs: a list with the length of 5"
   ]
  },
  {
   "cell_type": "code",
   "execution_count": 3,
   "metadata": {},
   "outputs": [],
   "source": [
    "def first_five(cast):\n",
    "    \"\"\"\n",
    "    >>> first_five(cast)\n",
    "    ['Robert Downey Jr.', 'Chris Hemsworth', 'Mark Ruffalo', 'Chris Evans', 'Scarlett Johansson']\n",
    "    \"\"\"\n",
    "    ### BEGIN SOLUTION\n",
    "    \n",
    "    ### END SOLUTION"
   ]
  },
  {
   "cell_type": "markdown",
   "metadata": {},
   "source": [
    "## Define a function named `select_sh` that is able to extract the actors who have played Sherlock Holmes: Robert Downey Jr.(in movies) and Benedict Cumberbatch(in TV series). The outputs should be packed in a `tuple`.\n",
    "\n",
    "- Expected inputs: a list `cast`\n",
    "- Expected outputs: a tuple with the length of 2"
   ]
  },
  {
   "cell_type": "code",
   "execution_count": 4,
   "metadata": {},
   "outputs": [],
   "source": [
    "def select_sh(cast):\n",
    "    \"\"\"\n",
    "    >>> select_sh(cast)\n",
    "    ('Robert Downey Jr.', 'Benedict Cumberbatch')\n",
    "    \"\"\"\n",
    "    ### BEGIN SOLUTION\n",
    "    \n",
    "    ### END SOLUTION"
   ]
  },
  {
   "cell_type": "markdown",
   "metadata": {},
   "source": [
    "## Define a function named `get_release_dates` that is able to extract the release dates of The Avengers(2012) in the US and Taiwan from a given dictionary `the_avengers`. The outputs should be packed in a `tuple`.\n",
    "\n",
    "- Expected inputs: a dictionary `the_avengers`\n",
    "- Expected outputs: a tuple with the length of 2"
   ]
  },
  {
   "cell_type": "code",
   "execution_count": 5,
   "metadata": {},
   "outputs": [],
   "source": [
    "def get_release_dates(the_avengers):\n",
    "    \"\"\"\n",
    "    >>> get_release_dates(the_avengers)\n",
    "    ('11 April 2012', '25 April 2012')\n",
    "    \"\"\"\n",
    "    ### BEGIN SOLUTION\n",
    "    \n",
    "    ### END SOLUTION"
   ]
  },
  {
   "cell_type": "markdown",
   "metadata": {},
   "source": [
    "## Define a function named `select_bw_hawkeye` that is able to extract Natasha Romanoff and Clint Barton who player Black Widow and Hawkeye, respectively from a given dictionary `the_avengers`. The outputs should be packed in a `tuple`.\n",
    "\n",
    "- Expected inputs: a dictionary `the_avengers`\n",
    "- Expected outputs: a tuple with the length of 2"
   ]
  },
  {
   "cell_type": "code",
   "execution_count": 6,
   "metadata": {},
   "outputs": [],
   "source": [
    "def select_bw_hawkeye(the_avengers):\n",
    "    \"\"\"\n",
    "    >>> select_bw_hawkeye(the_avengers)\n",
    "    ('Natasha Romanoff', 'Clint Barton')\n",
    "    \"\"\"\n",
    "    ### BEGIN SOLUTION\n",
    "    \n",
    "    ### END SOLUTION"
   ]
  },
  {
   "cell_type": "markdown",
   "metadata": {
    "deletable": false,
    "editable": false
   },
   "source": [
    "## Run tests!\n",
    "\n",
    "Kernel -> Restart & Run All."
   ]
  },
  {
   "cell_type": "code",
   "execution_count": 7,
   "metadata": {
    "deletable": false,
    "editable": false
   },
   "outputs": [
    {
     "name": "stderr",
     "output_type": "stream",
     "text": [
      "test_first_five (__main__.TestDataStructuresInPython) ... FAIL\n",
      "test_get_release_dates (__main__.TestDataStructuresInPython) ... FAIL\n",
      "test_select_bw_hawkeye (__main__.TestDataStructuresInPython) ... FAIL\n",
      "test_select_sh (__main__.TestDataStructuresInPython) ... FAIL\n",
      "test_select_sw (__main__.TestDataStructuresInPython) ... FAIL\n",
      "\n",
      "======================================================================\n",
      "FAIL: test_first_five (__main__.TestDataStructuresInPython)\n",
      "----------------------------------------------------------------------\n",
      "Traceback (most recent call last):\n",
      "  File \"<ipython-input-7-f968070e3a0b>\", line 7, in test_first_five\n",
      "    self.assertEqual(first_five(cast), ['Robert Downey Jr.', 'Chris Hemsworth', 'Mark Ruffalo', 'Chris Evans', 'Scarlett Johansson'])\n",
      "AssertionError: None != ['Robert Downey Jr.', 'Chris Hemsworth', [47 chars]son']\n",
      "\n",
      "======================================================================\n",
      "FAIL: test_get_release_dates (__main__.TestDataStructuresInPython)\n",
      "----------------------------------------------------------------------\n",
      "Traceback (most recent call last):\n",
      "  File \"<ipython-input-7-f968070e3a0b>\", line 11, in test_get_release_dates\n",
      "    self.assertEqual(get_release_dates(the_avengers), ('11 April 2012', '25 April 2012'))\n",
      "AssertionError: None != ('11 April 2012', '25 April 2012')\n",
      "\n",
      "======================================================================\n",
      "FAIL: test_select_bw_hawkeye (__main__.TestDataStructuresInPython)\n",
      "----------------------------------------------------------------------\n",
      "Traceback (most recent call last):\n",
      "  File \"<ipython-input-7-f968070e3a0b>\", line 13, in test_select_bw_hawkeye\n",
      "    self.assertEqual(select_bw_hawkeye(the_avengers), ('Natasha Romanoff', 'Clint Barton'))\n",
      "AssertionError: None != ('Natasha Romanoff', 'Clint Barton')\n",
      "\n",
      "======================================================================\n",
      "FAIL: test_select_sh (__main__.TestDataStructuresInPython)\n",
      "----------------------------------------------------------------------\n",
      "Traceback (most recent call last):\n",
      "  File \"<ipython-input-7-f968070e3a0b>\", line 9, in test_select_sh\n",
      "    self.assertEqual(select_sh(cast), ('Robert Downey Jr.', 'Benedict Cumberbatch'))\n",
      "AssertionError: None != ('Robert Downey Jr.', 'Benedict Cumberbatch')\n",
      "\n",
      "======================================================================\n",
      "FAIL: test_select_sw (__main__.TestDataStructuresInPython)\n",
      "----------------------------------------------------------------------\n",
      "Traceback (most recent call last):\n",
      "  File \"<ipython-input-7-f968070e3a0b>\", line 5, in test_select_sw\n",
      "    self.assertEqual(select_sw(cast), 'Elizabeth Olsen')\n",
      "AssertionError: None != 'Elizabeth Olsen'\n",
      "\n",
      "----------------------------------------------------------------------\n",
      "Ran 5 tests in 0.008s\n",
      "\n",
      "FAILED (failures=5)\n"
     ]
    }
   ],
   "source": [
    "import unittest\n",
    "\n",
    "class TestDataStructuresInPython(unittest.TestCase):\n",
    "    def test_select_sw(self):\n",
    "        self.assertEqual(select_sw(cast), 'Elizabeth Olsen')\n",
    "    def test_first_five(self):\n",
    "        self.assertEqual(first_five(cast), ['Robert Downey Jr.', 'Chris Hemsworth', 'Mark Ruffalo', 'Chris Evans', 'Scarlett Johansson'])\n",
    "    def test_select_sh(self):\n",
    "        self.assertEqual(select_sh(cast), ('Robert Downey Jr.', 'Benedict Cumberbatch'))\n",
    "    def test_get_release_dates(self):\n",
    "        self.assertEqual(get_release_dates(the_avengers), ('11 April 2012', '25 April 2012'))\n",
    "    def test_select_bw_hawkeye(self):\n",
    "        self.assertEqual(select_bw_hawkeye(the_avengers), ('Natasha Romanoff', 'Clint Barton'))\n",
    "        \n",
    "suite = unittest.TestLoader().loadTestsFromTestCase(TestDataStructuresInPython)\n",
    "runner = unittest.TextTestRunner(verbosity=2)\n",
    "test_results = runner.run(suite)\n",
    "number_of_failures = len(test_results.failures)\n",
    "number_of_errors = len(test_results.errors)\n",
    "number_of_test_runs = test_results.testsRun\n",
    "number_of_successes = number_of_test_runs - (number_of_failures + number_of_errors)"
   ]
  },
  {
   "cell_type": "code",
   "execution_count": 8,
   "metadata": {
    "deletable": false,
    "editable": false
   },
   "outputs": [
    {
     "name": "stdout",
     "output_type": "stream",
     "text": [
      "You've got 0 successes among 5 questions.\n"
     ]
    }
   ],
   "source": [
    "print(\"You've got {} successes among {} questions.\".format(number_of_successes, number_of_test_runs))"
   ]
  }
 ],
 "metadata": {
  "kernelspec": {
   "display_name": "Python 3",
   "language": "python",
   "name": "python3"
  },
  "language_info": {
   "codemirror_mode": {
    "name": "ipython",
    "version": 3
   },
   "file_extension": ".py",
   "mimetype": "text/x-python",
   "name": "python",
   "nbconvert_exporter": "python",
   "pygments_lexer": "ipython3",
   "version": "3.8.5"
  }
 },
 "nbformat": 4,
 "nbformat_minor": 4
}
